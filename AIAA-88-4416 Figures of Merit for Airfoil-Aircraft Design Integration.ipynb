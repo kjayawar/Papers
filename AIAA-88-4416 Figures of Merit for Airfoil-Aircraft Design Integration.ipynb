{
 "cells": [
  {
   "cell_type": "markdown",
   "metadata": {},
   "source": [
    "# AIAA-88-4416\n",
    "## Figures of Merit for Airfoil/Aircraft Design Integration"
   ]
  },
  {
   "cell_type": "code",
   "execution_count": 5,
   "metadata": {},
   "outputs": [],
   "source": [
    "from sympy import *"
   ]
  },
  {
   "cell_type": "code",
   "execution_count": 6,
   "metadata": {},
   "outputs": [],
   "source": [
    "# Constants\n",
    "pi = symbols('pi')\n",
    "g = symbols('g')\n",
    "Q = symbols('Q')\n",
    "\n",
    "# Intermediate variables.\n",
    "k, a, SCDo = symbols('k a SCDo')\n",
    "\n",
    "# Airplane parameters\n",
    "\n",
    "# W         : Weight\n",
    "# rho_SL    : rho@Sea_Level, \n",
    "# V_stall   : Stall_speed\n",
    "# b         : span\n",
    "# e         : span_efficiency\n",
    "# f         : CDA of the body\n",
    "# eta       : propulsive efficiency    \n",
    "# rho       : operational density\n",
    "# W_final   : Empty Weight\n",
    "# W_initial : Empty Weight + Fuel Weight\n",
    "\n",
    "W, rho_SL, V_stall, b, e, f, eta, rho, W_final, W_initial = symbols('W rho_SL V_stall b e f eta rho W_final W_initial')\n",
    "\n",
    "# Airfoil parameters\n",
    "# r is strongly dependent on the Re\n",
    "\n",
    "cl_max, cd_min, r= symbols('cl_max cd_min r')\n",
    "\n",
    "# Actual values we are interested in \n",
    "Endurance, FOM= symbols('E FOM')"
   ]
  },
  {
   "cell_type": "code",
   "execution_count": 7,
   "metadata": {},
   "outputs": [
    {
     "data": {
      "text/latex": [
       "$\\displaystyle \\frac{2 W}{V_{stall}^{2} \\rho_{SL}}$"
      ],
      "text/plain": [
       "2*W/(V_stall**2*rho_SL)"
      ]
     },
     "execution_count": 7,
     "metadata": {},
     "output_type": "execute_result"
    }
   ],
   "source": [
    "k = 2*W/(rho_SL* V_stall**2)\n",
    "k"
   ]
  },
  {
   "cell_type": "code",
   "execution_count": 8,
   "metadata": {},
   "outputs": [
    {
     "data": {
      "text/latex": [
       "$\\displaystyle \\frac{V_{stall}^{2} b^{2} cl_{max} \\pi r \\rho_{SL}}{2 W}$"
      ],
      "text/plain": [
       "V_stall**2*b**2*cl_max*pi*r*rho_SL/(2*W)"
      ]
     },
     "execution_count": 8,
     "metadata": {},
     "output_type": "execute_result"
    }
   ],
   "source": [
    "a = r*pi*b**2 * cl_max/k\n",
    "a"
   ]
  },
  {
   "cell_type": "code",
   "execution_count": 9,
   "metadata": {},
   "outputs": [
    {
     "data": {
      "text/latex": [
       "$\\displaystyle f + \\frac{2 W cd_{min}}{V_{stall}^{2} cl_{max} \\rho_{SL}}$"
      ],
      "text/plain": [
       "f + 2*W*cd_min/(V_stall**2*cl_max*rho_SL)"
      ]
     },
     "execution_count": 9,
     "metadata": {},
     "output_type": "execute_result"
    }
   ],
   "source": [
    "SCDo = f + k* cd_min/cl_max\n",
    "SCDo"
   ]
  },
  {
   "cell_type": "code",
   "execution_count": 10,
   "metadata": {},
   "outputs": [
    {
     "data": {
      "text/latex": [
       "$\\displaystyle \\frac{e}{\\frac{V_{stall}^{2} b^{2} cl_{max} e \\pi r \\rho_{SL}}{2 W} + 1}$"
      ],
      "text/plain": [
       "e/(V_stall**2*b**2*cl_max*e*pi*r*rho_SL/(2*W) + 1)"
      ]
     },
     "execution_count": 10,
     "metadata": {},
     "output_type": "execute_result"
    }
   ],
   "source": [
    "e_o = e/(e*a + 1)\n",
    "e_o"
   ]
  },
  {
   "cell_type": "code",
   "execution_count": 11,
   "metadata": {},
   "outputs": [],
   "source": [
    "FOM = ((e_o**3)/SCDo)**(1/4)"
   ]
  },
  {
   "cell_type": "code",
   "execution_count": 12,
   "metadata": {
    "scrolled": true
   },
   "outputs": [
    {
     "data": {
      "text/latex": [
       "$\\displaystyle \\left(\\frac{e^{3}}{\\left(f + \\frac{2 W cd_{min}}{V_{stall}^{2} cl_{max} \\rho_{SL}}\\right) \\left(\\frac{V_{stall}^{2} b^{2} cl_{max} e \\pi r \\rho_{SL}}{2 W} + 1\\right)^{3}}\\right)^{0.25}$"
      ],
      "text/plain": [
       "(e**3/((f + 2*W*cd_min/(V_stall**2*cl_max*rho_SL))*(V_stall**2*b**2*cl_max*e*pi*r*rho_SL/(2*W) + 1)**3))**0.25"
      ]
     },
     "execution_count": 12,
     "metadata": {},
     "output_type": "execute_result"
    }
   ],
   "source": [
    "FOM"
   ]
  },
  {
   "cell_type": "code",
   "execution_count": 13,
   "metadata": {},
   "outputs": [],
   "source": [
    "Endurance = (eta*Q/g) *2*rho* (((3*pi*b**2)**(3/4)))/4 *FOM * ((1/(W_final**0.5)) - (1/(W_initial**0.5)))"
   ]
  },
  {
   "cell_type": "code",
   "execution_count": 14,
   "metadata": {
    "scrolled": true
   },
   "outputs": [
    {
     "data": {
      "text/latex": [
       "$\\displaystyle \\frac{1.13975352847739 Q \\eta \\rho \\left(b^{2} \\pi\\right)^{0.75} \\left(\\frac{e^{3}}{\\left(f + \\frac{2 W cd_{min}}{V_{stall}^{2} cl_{max} \\rho_{SL}}\\right) \\left(\\frac{V_{stall}^{2} b^{2} cl_{max} e \\pi r \\rho_{SL}}{2 W} + 1\\right)^{3}}\\right)^{0.25} \\left(W_{final}^{-0.5} - W_{initial}^{-0.5}\\right)}{g}$"
      ],
      "text/plain": [
       "1.13975352847739*Q*eta*rho*(b**2*pi)**0.75*(e**3/((f + 2*W*cd_min/(V_stall**2*cl_max*rho_SL))*(V_stall**2*b**2*cl_max*e*pi*r*rho_SL/(2*W) + 1)**3))**0.25*(W_final**(-0.5) - W_initial**(-0.5))/g"
      ]
     },
     "execution_count": 14,
     "metadata": {},
     "output_type": "execute_result"
    }
   ],
   "source": [
    "Endurance"
   ]
  },
  {
   "cell_type": "code",
   "execution_count": 15,
   "metadata": {},
   "outputs": [
    {
     "data": {
      "text/plain": [
       "{V_stall, W, b, cd_min, cl_max, e, f, pi, r, rho_SL}"
      ]
     },
     "execution_count": 15,
     "metadata": {},
     "output_type": "execute_result"
    }
   ],
   "source": [
    "FOM.free_symbols"
   ]
  },
  {
   "cell_type": "markdown",
   "metadata": {},
   "source": [
    "#### Airfoil Data from Page 6\n",
    "\n",
    "\n",
    "| Airfoil  | cd_min | cl_op | cd@cl_op | cl_max | r           |\n",
    "|----------|--------|-------|----------|--------|-------------|\n",
    "| NLF-1015 | 0.0074 | 1.36  | 0.0096   | 1.9    | 0.001189446 |\n",
    "| FX63-137 | 0.0082 | 1.5   | 0.0132   | 1.9    | 0.002222222 |\n",
    "| LA203A   | 0.0091 | 1.6   | 0.012    | 1.8    | 0.001132813 |"
   ]
  },
  {
   "cell_type": "code",
   "execution_count": 16,
   "metadata": {},
   "outputs": [],
   "source": [
    "# First Case for NLF-1015\n",
    "\n",
    "RPV_NLF = {\\\n",
    "rho_SL : 1.225,         # [kgm-3]\n",
    "V_stall :26.8,          # [ms-1]\n",
    "W : 22246,              # [N]\n",
    "b : 26,                 # [m]\n",
    "e : 1,                  # [None]\n",
    "f : 0.19,               # [m2]\n",
    "pi: 3.14159265359,      # [None]\n",
    "cd_min : 0.0074,        # [None]  \n",
    "cl_max : 1.9,           # [None]\n",
    "r : 0.001189446}        # [None]                    \n",
    "\n",
    "# Second Case for FX63-137\n",
    "\n",
    "RPV_FX = {\\\n",
    "rho_SL : 1.225,         # [kgm-3]\n",
    "V_stall :26.8,          # [ms-1]\n",
    "W : 22246,              # [N]\n",
    "b : 26,                 # [m]\n",
    "e : 1,                  # [None]\n",
    "f : 0.19,               # [m2]\n",
    "pi: 3.14159265359,      # [None]\n",
    "cd_min : 0.0074,        # [None]  \n",
    "cl_max : 1.9,           # [None]\n",
    "r : 0.002222222}        # [None]   \n",
    "\n",
    "# Thrid Case for LA203A \n",
    "\n",
    "RPV_LA = {\\\n",
    "rho_SL : 1.225,         # [kgm-3]\n",
    "V_stall :26.8,          # [ms-1]\n",
    "W : 22246,              # [N]\n",
    "b : 26,                 # [m]\n",
    "e : 1,                  # [None]\n",
    "f : 0.19,               # [m2]\n",
    "pi: 3.14159265359,      # [None]\n",
    "cd_min :  0.0091,       # [None]  \n",
    "cl_max : 1.8,           # [None]\n",
    "r : 0.001132813}        # [None]   "
   ]
  },
  {
   "cell_type": "code",
   "execution_count": 17,
   "metadata": {},
   "outputs": [
    {
     "name": "stdout",
     "output_type": "stream",
     "text": [
      "1.18454684969366\n",
      "1.12179936653010\n",
      "1.15077059124470\n"
     ]
    }
   ],
   "source": [
    "print(FOM.evalf(subs=RPV_NLF))\n",
    "print(FOM.evalf(subs=RPV_FX))\n",
    "print(FOM.evalf(subs=RPV_LA))"
   ]
  },
  {
   "cell_type": "code",
   "execution_count": 18,
   "metadata": {},
   "outputs": [],
   "source": [
    "FOM_calculated = symbols('FOM_calculated')\n",
    "END = (eta*Q/g) *2*rho* (((3*pi*b**2)**(3/4)))/4 *FOM_calculated * ((1/(W_final**0.5)) - (1/(W_initial**0.5)))"
   ]
  },
  {
   "cell_type": "code",
   "execution_count": 19,
   "metadata": {},
   "outputs": [
    {
     "data": {
      "text/latex": [
       "$\\displaystyle \\frac{1.13975352847739 FOM_{calculated} Q \\eta \\rho \\left(b^{2} \\pi\\right)^{0.75} \\left(W_{final}^{-0.5} - W_{initial}^{-0.5}\\right)}{g}$"
      ],
      "text/plain": [
       "1.13975352847739*FOM_calculated*Q*eta*rho*(b**2*pi)**0.75*(W_final**(-0.5) - W_initial**(-0.5))/g"
      ]
     },
     "execution_count": 19,
     "metadata": {},
     "output_type": "execute_result"
    }
   ],
   "source": [
    "END"
   ]
  },
  {
   "cell_type": "code",
   "execution_count": 20,
   "metadata": {},
   "outputs": [
    {
     "data": {
      "text/plain": [
       "{FOM_calculated, Q, W_final, W_initial, b, eta, g, pi, rho}"
      ]
     },
     "execution_count": 20,
     "metadata": {},
     "output_type": "execute_result"
    }
   ],
   "source": [
    "END.free_symbols"
   ]
  },
  {
   "cell_type": "code",
   "execution_count": 21,
   "metadata": {},
   "outputs": [],
   "source": [
    "Airplane = {\\\n",
    "Q : 44000000,           # [J/kg]\n",
    "g : 9.81,               # [ms-2]\n",
    "W_final: 12446,         # [N]\n",
    "W_initial : 22246,      # [N]\n",
    "b : 26,                 # [m]\n",
    "eta : 0.20,             # [None]\n",
    "pi : 3.14159265359,     # [None]\n",
    "rho: 0.1948}            # [kgm-3]\n",
    "\n",
    "NLF = dict(list(Airplane.items()) +  [(FOM_calculated, 1.1845468496936)])\n",
    "FX =  dict(list(Airplane.items()) +  [(FOM_calculated, 1.1217993665301)])\n",
    "LA =  dict(list(Airplane.items()) +  [(FOM_calculated, 1.1507705912447)])"
   ]
  },
  {
   "cell_type": "code",
   "execution_count": 22,
   "metadata": {},
   "outputs": [
    {
     "name": "stdout",
     "output_type": "stream",
     "text": [
      "Endurance of NLF based RPV (hr): 46.3136454471845\n",
      "Endurance of FX  based RPV (hr): 43.8603320229926\n",
      "Endurance of LA  based RPV (hr): 44.9930546586146\n"
     ]
    }
   ],
   "source": [
    "print(\"Endurance of NLF based RPV (hr): {}\".format(END.evalf(subs=NLF)/3600))\n",
    "print(\"Endurance of FX  based RPV (hr): {}\".format(END.evalf(subs=FX)/3600))\n",
    "print(\"Endurance of LA  based RPV (hr): {}\".format(END.evalf(subs=LA)/3600))"
   ]
  }
 ],
 "metadata": {
  "kernelspec": {
   "display_name": "Python 3",
   "language": "python",
   "name": "python3"
  },
  "language_info": {
   "codemirror_mode": {
    "name": "ipython",
    "version": 3
   },
   "file_extension": ".py",
   "mimetype": "text/x-python",
   "name": "python",
   "nbconvert_exporter": "python",
   "pygments_lexer": "ipython3",
   "version": "3.8.5"
  }
 },
 "nbformat": 4,
 "nbformat_minor": 4
}
